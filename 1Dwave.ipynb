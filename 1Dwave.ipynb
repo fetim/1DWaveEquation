{
 "cells": [
  {
   "cell_type": "markdown",
   "metadata": {},
   "source": [
    "## Script de modelagem 1D\n",
    "\n",
    "Nesse scprit é realizada a modelagem 1D por diferenças finitas"
   ]
  },
  {
   "cell_type": "code",
   "execution_count": 1,
   "metadata": {},
   "outputs": [],
   "source": [
    "#!/usr/bin/env python2\n",
    "# -*- coding: utf-8 -*-\n",
    "\"\"\"\n",
    "d2u    1    d2u\n",
    "--- = --- X ---   Solving Wave equation 1D by Finite Differences\n",
    "dx2    c2   dt2\n",
    "\n",
    "\n",
    "Code Written by Felipe Timoteo | felipetimoteo@id.uff.br\n",
    "                 Last update: May 23th, 2018 \n",
    "\n",
    "Copyright (C) 2016 Grupo de Imageamento Sísmico e Inversão Sísmica (GISIS)\n",
    "                   Departamento de Geologia e Geofísica\n",
    "                   Universidade Federal Fluminense\n",
    "\"\"\"\n",
    "\n",
    "from numpy import arange,size,pi,sqrt,exp,zeros,copy\n",
    "from matplotlib.pylab import figure,plot,show,draw,pause,clf\n",
    "from time import sleep\n",
    "import matplotlib.animation as animation"
   ]
  },
  {
   "cell_type": "code",
   "execution_count": 7,
   "metadata": {},
   "outputs": [],
   "source": [
    "# Parameters\n",
    "dx  = 0.5\n",
    "dt  = 0.0002\n",
    "T   = 5\n",
    "L   = 1000 \n",
    "\n",
    "\n",
    "x  = arange(0,L+dx,dx)\n",
    "t  = arange(0,T+dt,dt)\n",
    "Nx = size(x)\n",
    "Nt = size(t)\n",
    "\n",
    "fc = 1.\n",
    "c  = 1500.\n",
    "r = (c*dt/dx)*(c*dt/dx)\n",
    "\n",
    "\n",
    "# Source\n",
    "td  = t - 2*sqrt(pi)/fc\n",
    "fcd = fc/(sqrt(pi)*3)\n",
    "source = (1 - 2*pi*(pi*fcd*td)*(pi*fcd*td))*exp(-pi*(pi*fcd*td)*(pi*fcd*td))"
   ]
  },
  {
   "cell_type": "code",
   "execution_count": 8,
   "metadata": {},
   "outputs": [
    {
     "data": {
      "image/png": "[encoded data removed]",
      "text/plain": [
       "<Figure size 432x288 with 1 Axes>"
      ]
     },
     "metadata": {},
     "output_type": "display_data"
    }
   ],
   "source": [
    "figure(1)\n",
    "plot(source)\n",
    "draw()"
   ]
  },
  {
   "cell_type": "code",
   "execution_count": null,
   "metadata": {},
   "outputs": [],
   "source": []
  }
 ],
 "metadata": {
  "kernelspec": {
   "display_name": "Python 3",
   "language": "python",
   "name": "python3"
  },
  "language_info": {
   "codemirror_mode": {
    "name": "ipython",
    "version": 3
   },
   "file_extension": ".py",
   "mimetype": "text/x-python",
   "name": "python",
   "nbconvert_exporter": "python",
   "pygments_lexer": "ipython3",
   "version": "3.6.5"
  }
 },
 "nbformat": 4,
 "nbformat_minor": 2
}
